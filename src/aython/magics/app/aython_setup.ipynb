{
 "cells": [
  {
   "cell_type": "markdown",
   "metadata": {},
   "source": [
    "# Aython Setup\n",
    "\n",
    "This notebook loads the Aython magic commands. Run this cell to get started!\n"
   ]
  },
  {
   "cell_type": "code",
   "execution_count": 1,
   "metadata": {},
   "outputs": [
    {
     "name": "stdout",
     "output_type": "stream",
     "text": [
      "✅ Aython magics loaded successfully!\n",
      "\n",
      "Available commands:\n",
      "  %init_aython <model>  - Initialize the AI agent\n",
      "  %code <requirements>  - Generate and execute code\n",
      "  %save_history <file>  - Save session history\n",
      "  %export_notebook <file> - Export as Jupyter notebook\n",
      "\n",
      "🚀 Ready to use Aython! Try: %init_aython gpt-4o-mini\n"
     ]
    }
   ],
   "source": [
    "# Load Aython magics\n",
    "import sys\n",
    "import os\n",
    "\n",
    "# Add the app directory to Python path\n",
    "sys.path.insert(0, '/app')\n",
    "\n",
    "try:\n",
    "    from aython_magics import AythonMagics\n",
    "    from IPython import get_ipython\n",
    "    \n",
    "    # Get the current IPython instance\n",
    "    ip = get_ipython()\n",
    "    if ip is not None:\n",
    "        # Register the magics\n",
    "        ip.register_magics(AythonMagics)\n",
    "        print(\"✅ Aython magics loaded successfully!\")\n",
    "        print(\"\\nAvailable commands:\")\n",
    "        print(\"  %init_aython <model>  - Initialize the AI agent\")\n",
    "        print(\"  %code <requirements>  - Generate and execute code\")\n",
    "        print(\"  %save_history <file>  - Save session history\")\n",
    "        print(\"  %export_notebook <file> - Export as Jupyter notebook\")\n",
    "        print(\"\\n🚀 Ready to use Aython! Try: %init_aython gpt-4o-mini\")\n",
    "    else:\n",
    "        print(\"❌ No IPython session found. Please run this in a Jupyter notebook.\")\n",
    "except ImportError as e:\n",
    "    print(f\"❌ Failed to import Aython magics: {e}\")\n",
    "except Exception as e:\n",
    "    print(f\"❌ Error loading Aython magics: {e}\")\n"
   ]
  },
  {
   "cell_type": "markdown",
   "metadata": {},
   "source": [
    "## Quick Start\n",
    "\n",
    "1. **Initialize the agent**: `%init_aython gpt-4o-mini`\n",
    "2. **Generate and execute code**: `%code \"create a function that calculates fibonacci numbers\"`\n",
    "\n",
    "### What Happens When You Use %code\n",
    "\n",
    "1. **AI generates code** based on your requirements\n",
    "2. **Code is displayed** in a syntax-highlighted code block\n",
    "3. **Code is executed** directly in the notebook\n",
    "4. **Variables and functions** are available for further use\n",
    "\n",
    "### Example Usage\n",
    "\n",
    "```python\n",
    "# Initialize with your preferred model\n",
    "%init_aython gpt-4o-mini\n",
    "\n",
    "# Generate and execute code (runs in notebook!)\n",
    "%code \"create a function that calculates fibonacci numbers\"\n",
    "%code \"import matplotlib.pyplot as plt and create a simple plot\"\n",
    "%code \"create a pandas DataFrame with sample data\"\n",
    "\n",
    "# Use the generated functions/variables\n",
    "print(fibonacci(10))  # If fibonacci was generated above\n",
    "```\n"
   ]
  },
  {
   "cell_type": "code",
   "execution_count": 2,
   "metadata": {},
   "outputs": [
    {
     "name": "stdout",
     "output_type": "stream",
     "text": [
      "Aython initialized with model gemini-1.5-flash\n"
     ]
    }
   ],
   "source": [
    "%init_aython gemini-1.5-flash"
   ]
  },
  {
   "cell_type": "code",
   "execution_count": 3,
   "metadata": {},
   "outputs": [
    {
     "data": {
      "text/html": [
       "<style>pre { line-height: 125%; }\n",
       "td.linenos .normal { color: inherit; background-color: transparent; padding-left: 5px; padding-right: 5px; }\n",
       "span.linenos { color: inherit; background-color: transparent; padding-left: 5px; padding-right: 5px; }\n",
       "td.linenos .special { color: #000000; background-color: #ffffc0; padding-left: 5px; padding-right: 5px; }\n",
       "span.linenos.special { color: #000000; background-color: #ffffc0; padding-left: 5px; padding-right: 5px; }\n",
       ".output_html .hll { background-color: #ffffcc }\n",
       ".output_html { background: #f8f8f8; }\n",
       ".output_html .c { color: #3D7B7B; font-style: italic } /* Comment */\n",
       ".output_html .err { border: 1px solid #F00 } /* Error */\n",
       ".output_html .k { color: #008000; font-weight: bold } /* Keyword */\n",
       ".output_html .o { color: #666 } /* Operator */\n",
       ".output_html .ch { color: #3D7B7B; font-style: italic } /* Comment.Hashbang */\n",
       ".output_html .cm { color: #3D7B7B; font-style: italic } /* Comment.Multiline */\n",
       ".output_html .cp { color: #9C6500 } /* Comment.Preproc */\n",
       ".output_html .cpf { color: #3D7B7B; font-style: italic } /* Comment.PreprocFile */\n",
       ".output_html .c1 { color: #3D7B7B; font-style: italic } /* Comment.Single */\n",
       ".output_html .cs { color: #3D7B7B; font-style: italic } /* Comment.Special */\n",
       ".output_html .gd { color: #A00000 } /* Generic.Deleted */\n",
       ".output_html .ge { font-style: italic } /* Generic.Emph */\n",
       ".output_html .ges { font-weight: bold; font-style: italic } /* Generic.EmphStrong */\n",
       ".output_html .gr { color: #E40000 } /* Generic.Error */\n",
       ".output_html .gh { color: #000080; font-weight: bold } /* Generic.Heading */\n",
       ".output_html .gi { color: #008400 } /* Generic.Inserted */\n",
       ".output_html .go { color: #717171 } /* Generic.Output */\n",
       ".output_html .gp { color: #000080; font-weight: bold } /* Generic.Prompt */\n",
       ".output_html .gs { font-weight: bold } /* Generic.Strong */\n",
       ".output_html .gu { color: #800080; font-weight: bold } /* Generic.Subheading */\n",
       ".output_html .gt { color: #04D } /* Generic.Traceback */\n",
       ".output_html .kc { color: #008000; font-weight: bold } /* Keyword.Constant */\n",
       ".output_html .kd { color: #008000; font-weight: bold } /* Keyword.Declaration */\n",
       ".output_html .kn { color: #008000; font-weight: bold } /* Keyword.Namespace */\n",
       ".output_html .kp { color: #008000 } /* Keyword.Pseudo */\n",
       ".output_html .kr { color: #008000; font-weight: bold } /* Keyword.Reserved */\n",
       ".output_html .kt { color: #B00040 } /* Keyword.Type */\n",
       ".output_html .m { color: #666 } /* Literal.Number */\n",
       ".output_html .s { color: #BA2121 } /* Literal.String */\n",
       ".output_html .na { color: #687822 } /* Name.Attribute */\n",
       ".output_html .nb { color: #008000 } /* Name.Builtin */\n",
       ".output_html .nc { color: #00F; font-weight: bold } /* Name.Class */\n",
       ".output_html .no { color: #800 } /* Name.Constant */\n",
       ".output_html .nd { color: #A2F } /* Name.Decorator */\n",
       ".output_html .ni { color: #717171; font-weight: bold } /* Name.Entity */\n",
       ".output_html .ne { color: #CB3F38; font-weight: bold } /* Name.Exception */\n",
       ".output_html .nf { color: #00F } /* Name.Function */\n",
       ".output_html .nl { color: #767600 } /* Name.Label */\n",
       ".output_html .nn { color: #00F; font-weight: bold } /* Name.Namespace */\n",
       ".output_html .nt { color: #008000; font-weight: bold } /* Name.Tag */\n",
       ".output_html .nv { color: #19177C } /* Name.Variable */\n",
       ".output_html .ow { color: #A2F; font-weight: bold } /* Operator.Word */\n",
       ".output_html .w { color: #BBB } /* Text.Whitespace */\n",
       ".output_html .mb { color: #666 } /* Literal.Number.Bin */\n",
       ".output_html .mf { color: #666 } /* Literal.Number.Float */\n",
       ".output_html .mh { color: #666 } /* Literal.Number.Hex */\n",
       ".output_html .mi { color: #666 } /* Literal.Number.Integer */\n",
       ".output_html .mo { color: #666 } /* Literal.Number.Oct */\n",
       ".output_html .sa { color: #BA2121 } /* Literal.String.Affix */\n",
       ".output_html .sb { color: #BA2121 } /* Literal.String.Backtick */\n",
       ".output_html .sc { color: #BA2121 } /* Literal.String.Char */\n",
       ".output_html .dl { color: #BA2121 } /* Literal.String.Delimiter */\n",
       ".output_html .sd { color: #BA2121; font-style: italic } /* Literal.String.Doc */\n",
       ".output_html .s2 { color: #BA2121 } /* Literal.String.Double */\n",
       ".output_html .se { color: #AA5D1F; font-weight: bold } /* Literal.String.Escape */\n",
       ".output_html .sh { color: #BA2121 } /* Literal.String.Heredoc */\n",
       ".output_html .si { color: #A45A77; font-weight: bold } /* Literal.String.Interpol */\n",
       ".output_html .sx { color: #008000 } /* Literal.String.Other */\n",
       ".output_html .sr { color: #A45A77 } /* Literal.String.Regex */\n",
       ".output_html .s1 { color: #BA2121 } /* Literal.String.Single */\n",
       ".output_html .ss { color: #19177C } /* Literal.String.Symbol */\n",
       ".output_html .bp { color: #008000 } /* Name.Builtin.Pseudo */\n",
       ".output_html .fm { color: #00F } /* Name.Function.Magic */\n",
       ".output_html .vc { color: #19177C } /* Name.Variable.Class */\n",
       ".output_html .vg { color: #19177C } /* Name.Variable.Global */\n",
       ".output_html .vi { color: #19177C } /* Name.Variable.Instance */\n",
       ".output_html .vm { color: #19177C } /* Name.Variable.Magic */\n",
       ".output_html .il { color: #666 } /* Literal.Number.Integer.Long */</style><div class=\"highlight\"><pre><span></span><span class=\"k\">def</span><span class=\"w\"> </span><span class=\"nf\">fibonacci</span><span class=\"p\">(</span><span class=\"n\">n</span><span class=\"p\">):</span>\n",
       "  <span class=\"k\">if</span> <span class=\"n\">n</span> <span class=\"o\">&lt;=</span> <span class=\"mi\">0</span><span class=\"p\">:</span>\n",
       "    <span class=\"k\">return</span> <span class=\"p\">[]</span>\n",
       "  <span class=\"k\">elif</span> <span class=\"n\">n</span> <span class=\"o\">==</span> <span class=\"mi\">1</span><span class=\"p\">:</span>\n",
       "    <span class=\"k\">return</span> <span class=\"p\">[</span><span class=\"mi\">0</span><span class=\"p\">]</span>\n",
       "  <span class=\"k\">else</span><span class=\"p\">:</span>\n",
       "    <span class=\"n\">list_fib</span> <span class=\"o\">=</span> <span class=\"p\">[</span><span class=\"mi\">0</span><span class=\"p\">,</span> <span class=\"mi\">1</span><span class=\"p\">]</span>\n",
       "    <span class=\"k\">while</span> <span class=\"nb\">len</span><span class=\"p\">(</span><span class=\"n\">list_fib</span><span class=\"p\">)</span> <span class=\"o\">&lt;</span> <span class=\"n\">n</span><span class=\"p\">:</span>\n",
       "      <span class=\"n\">next_fib</span> <span class=\"o\">=</span> <span class=\"n\">list_fib</span><span class=\"p\">[</span><span class=\"o\">-</span><span class=\"mi\">1</span><span class=\"p\">]</span> <span class=\"o\">+</span> <span class=\"n\">list_fib</span><span class=\"p\">[</span><span class=\"o\">-</span><span class=\"mi\">2</span><span class=\"p\">]</span>\n",
       "      <span class=\"n\">list_fib</span><span class=\"o\">.</span><span class=\"n\">append</span><span class=\"p\">(</span><span class=\"n\">next_fib</span><span class=\"p\">)</span>\n",
       "    <span class=\"k\">return</span> <span class=\"n\">list_fib</span>\n",
       "</pre></div>\n"
      ],
      "text/latex": [
       "\\begin{Verbatim}[commandchars=\\\\\\{\\}]\n",
       "\\PY{k}{def}\\PY{+w}{ }\\PY{n+nf}{fibonacci}\\PY{p}{(}\\PY{n}{n}\\PY{p}{)}\\PY{p}{:}\n",
       "  \\PY{k}{if} \\PY{n}{n} \\PY{o}{\\PYZlt{}}\\PY{o}{=} \\PY{l+m+mi}{0}\\PY{p}{:}\n",
       "    \\PY{k}{return} \\PY{p}{[}\\PY{p}{]}\n",
       "  \\PY{k}{elif} \\PY{n}{n} \\PY{o}{==} \\PY{l+m+mi}{1}\\PY{p}{:}\n",
       "    \\PY{k}{return} \\PY{p}{[}\\PY{l+m+mi}{0}\\PY{p}{]}\n",
       "  \\PY{k}{else}\\PY{p}{:}\n",
       "    \\PY{n}{list\\PYZus{}fib} \\PY{o}{=} \\PY{p}{[}\\PY{l+m+mi}{0}\\PY{p}{,} \\PY{l+m+mi}{1}\\PY{p}{]}\n",
       "    \\PY{k}{while} \\PY{n+nb}{len}\\PY{p}{(}\\PY{n}{list\\PYZus{}fib}\\PY{p}{)} \\PY{o}{\\PYZlt{}} \\PY{n}{n}\\PY{p}{:}\n",
       "      \\PY{n}{next\\PYZus{}fib} \\PY{o}{=} \\PY{n}{list\\PYZus{}fib}\\PY{p}{[}\\PY{o}{\\PYZhy{}}\\PY{l+m+mi}{1}\\PY{p}{]} \\PY{o}{+} \\PY{n}{list\\PYZus{}fib}\\PY{p}{[}\\PY{o}{\\PYZhy{}}\\PY{l+m+mi}{2}\\PY{p}{]}\n",
       "      \\PY{n}{list\\PYZus{}fib}\\PY{o}{.}\\PY{n}{append}\\PY{p}{(}\\PY{n}{next\\PYZus{}fib}\\PY{p}{)}\n",
       "    \\PY{k}{return} \\PY{n}{list\\PYZus{}fib}\n",
       "\\end{Verbatim}\n"
      ],
      "text/plain": [
       "def fibonacci(n):\n",
       "  if n <= 0:\n",
       "    return []\n",
       "  elif n == 1:\n",
       "    return [0]\n",
       "  else:\n",
       "    list_fib = [0, 1]\n",
       "    while len(list_fib) < n:\n",
       "      next_fib = list_fib[-1] + list_fib[-2]\n",
       "      list_fib.append(next_fib)\n",
       "    return list_fib"
      ]
     },
     "metadata": {},
     "output_type": "display_data"
    },
    {
     "name": "stdout",
     "output_type": "stream",
     "text": [
      "🚀 Executing generated code in notebook...\n",
      "✅ Code executed successfully!\n"
     ]
    }
   ],
   "source": [
    "%code \"create a function that calculates fibonacci numbers\""
   ]
  },
  {
   "cell_type": "code",
   "execution_count": 4,
   "metadata": {},
   "outputs": [
    {
     "data": {
      "text/plain": [
       "[0, 1, 1, 2, 3, 5, 8]"
      ]
     },
     "execution_count": 4,
     "metadata": {},
     "output_type": "execute_result"
    }
   ],
   "source": [
    "fibonacci(7)"
   ]
  },
  {
   "cell_type": "code",
   "execution_count": null,
   "metadata": {},
   "outputs": [],
   "source": []
  }
 ],
 "metadata": {
  "kernelspec": {
   "display_name": "Python 3 (ipykernel)",
   "language": "python",
   "name": "python3"
  },
  "language_info": {
   "codemirror_mode": {
    "name": "ipython",
    "version": 3
   },
   "file_extension": ".py",
   "mimetype": "text/x-python",
   "name": "python",
   "nbconvert_exporter": "python",
   "pygments_lexer": "ipython3",
   "version": "3.11.13"
  }
 },
 "nbformat": 4,
 "nbformat_minor": 4
}
